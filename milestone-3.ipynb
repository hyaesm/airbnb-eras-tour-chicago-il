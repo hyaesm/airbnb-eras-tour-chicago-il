{
 "cells": [
  {
   "cell_type": "markdown",
   "metadata": {},
   "source": [
    "# Introduction"
   ]
  },
  {
   "cell_type": "markdown",
   "metadata": {},
   "source": [
    "### Description\n",
    "\n",
    "The goal of this class project is to investigate various Exploratory Data Analysis techniques utilizing Pandas, along with data visualization through matplotlib/seaborn, Data Preprocessing, and Feature Engineering. The focus of the study is to analyze how AirBnB occupancy rates were affected prior to and during the Taylor Swift Eras Tour in June 2023."
   ]
  },
  {
   "cell_type": "markdown",
   "metadata": {},
   "source": [
    "#### 1. Data Collection and Preparation"
   ]
  },
  {
   "cell_type": "code",
   "execution_count": null,
   "metadata": {},
   "outputs": [],
   "source": [
    "import pandas as pd\n",
    "\n",
    "# Path to the listings dataset\n",
    "listings_data = 'data/listings-chicago-june-2023.csv'\n",
    "\n",
    "# Load the dataset\n",
    "df = pd.read_csv(listings_data)\n",
    "\n",
    "# Display the first few rows of the dataframe\n",
    "print(df.head())\n"
   ]
  },
  {
   "cell_type": "code",
   "execution_count": null,
   "metadata": {},
   "outputs": [],
   "source": [
    "# Basic info about dataset\n",
    "print(df.info())\n",
    "\n",
    "# Summary statistics for numerical features\n",
    "print(df.describe())\n",
    "\n",
    "# Count of missing values in each column\n",
    "print(df.isnull().sum())\n"
   ]
  },
  {
   "cell_type": "code",
   "execution_count": 7,
   "metadata": {},
   "outputs": [
    {
     "name": "stdout",
     "output_type": "stream",
     "text": [
      "id                                                                           1461451\n",
      "listing_url                                     https://www.airbnb.com/rooms/1461451\n",
      "scrape_id                                                             20231218032601\n",
      "last_scraped                                                              2023-12-18\n",
      "source                                                                   city scrape\n",
      "                                                                ...                 \n",
      "calculated_host_listings_count                                                    15\n",
      "calculated_host_listings_count_entire_homes                                        0\n",
      "calculated_host_listings_count_private_rooms                                       4\n",
      "calculated_host_listings_count_shared_rooms                                       11\n",
      "reviews_per_month                                                               1.49\n",
      "Name: 0, Length: 75, dtype: object\n",
      "0        $28.00\n",
      "1       $146.00\n",
      "2        $49.00\n",
      "3        $70.00\n",
      "4           NaN\n",
      "         ...   \n",
      "8944    $113.00\n",
      "8945    $118.00\n",
      "8946     $64.00\n",
      "8947    $327.00\n",
      "8948    $178.00\n",
      "Name: price, Length: 8949, dtype: object\n"
     ]
    }
   ],
   "source": [
    "print(df.iloc[0])  # First row\n",
    "print(df[\"price\"])  # Accessing the 'price' column\n",
    "\n"
   ]
  },
  {
   "cell_type": "markdown",
   "metadata": {},
   "source": [
    "### Data Cleaning\n",
    "\n",
    "- Dropping unnecessary columns \n",
    "- Converting data types"
   ]
  },
  {
   "cell_type": "code",
   "execution_count": 12,
   "metadata": {},
   "outputs": [],
   "source": [
    "df = df.drop(['scrape_id', 'last_scraped', 'source'], axis=1)"
   ]
  },
  {
   "cell_type": "code",
   "execution_count": 22,
   "metadata": {},
   "outputs": [
    {
     "name": "stdout",
     "output_type": "stream",
     "text": [
      "host_about                     32.942228\n",
      "neighborhood_overview          28.852386\n",
      "neighbourhood                  28.841211\n",
      "reviews_per_month              21.309644\n",
      "first_review                   21.309644\n",
      "last_review                    21.309644\n",
      "review_scores_communication    21.253771\n",
      "review_scores_cleanliness      21.253771\n",
      "review_scores_accuracy         21.242597\n",
      "review_scores_value            21.242597\n",
      "review_scores_location         21.242597\n",
      "review_scores_checkin          21.242597\n",
      "review_scores_rating           21.242597\n",
      "host_location                  19.108280\n",
      "license                        18.672477\n",
      "host_response_rate             12.638284\n",
      "host_response_time             12.638284\n",
      "host_acceptance_rate            9.621187\n",
      "has_availability                6.827579\n",
      "price                           6.827579\n",
      "dtype: float64\n"
     ]
    }
   ],
   "source": [
    "# Calculate the percentage of missing values for each column\n",
    "missing_percentages = df.isnull().mean() * 100\n",
    "\n",
    "# Sort the percentages in descending order\n",
    "missing_percentages_sorted = missing_percentages.sort_values(ascending=False).head(20)\n",
    "\n",
    "# Display the sorted percentages\n",
    "print(missing_percentages_sorted)\n",
    "\n"
   ]
  },
  {
   "cell_type": "code",
   "execution_count": 23,
   "metadata": {},
   "outputs": [
    {
     "name": "stdout",
     "output_type": "stream",
     "text": [
      "Series([], dtype: float64)\n"
     ]
    }
   ],
   "source": [
    "# Display columns with more than 80% mising values\n",
    "\n",
    "threshold = 80  # 80% missing values\n",
    "\n",
    "# Find and print columns with missing value percentage greater than the threshold\n",
    "columns_with_missing_data = missing_percentages[missing_percentages > threshold]\n",
    "print(columns_with_missing_data)\n"
   ]
  },
  {
   "cell_type": "code",
   "execution_count": 24,
   "metadata": {},
   "outputs": [],
   "source": [
    "# Drop columns with a high percentage of missing values\n",
    "df = df.drop(columns_with_missing_data.index, axis=1)\n"
   ]
  },
  {
   "cell_type": "code",
   "execution_count": 25,
   "metadata": {},
   "outputs": [
    {
     "name": "stdout",
     "output_type": "stream",
     "text": [
      "         id                           listing_url  \\\n",
      "1   1502674  https://www.airbnb.com/rooms/1502674   \n",
      "6   1584422  https://www.airbnb.com/rooms/1584422   \n",
      "8     10945    https://www.airbnb.com/rooms/10945   \n",
      "9   1591370  https://www.airbnb.com/rooms/1591370   \n",
      "11    12140    https://www.airbnb.com/rooms/12140   \n",
      "\n",
      "                                                 name  \\\n",
      "1   Rental unit in Chicago · ★4.79 · 2 bedrooms · ...   \n",
      "6   Rental unit in Chicago · ★4.93 · 3 bedrooms · ...   \n",
      "8   Rental unit in Chicago · ★4.63 · 2 bedrooms · ...   \n",
      "9   Rental unit in Chicago · ★4.83 · 1 bedroom · 4...   \n",
      "11  Boutique hotel in Chicago · ★4.93 · 1 bedroom ...   \n",
      "\n",
      "                                neighborhood_overview  \\\n",
      "1   Old Town is the Historic District of Chicago. ...   \n",
      "6   Located at the crossroads of Lincoln Park - Ol...   \n",
      "8                                                 NaN   \n",
      "9   Quaint residential neighborhood with tree line...   \n",
      "11  The Guest House is in the heart of Chicago's m...   \n",
      "\n",
      "                                          picture_url  host_id  \\\n",
      "1   https://a0.muscache.com/pictures/e02e56c3-f683...    33004   \n",
      "6   https://a0.muscache.com/pictures/prohost-api/H...  2810938   \n",
      "8   https://a0.muscache.com/pictures/58d1a420-a24b...    33004   \n",
      "9   https://a0.muscache.com/pictures/82760515/1082...  8489460   \n",
      "11  https://a0.muscache.com/pictures/miso/Hosting-...    46734   \n",
      "\n",
      "                                     host_url        host_name  host_since  \\\n",
      "1     https://www.airbnb.com/users/show/33004      At Home Inn  2009-08-21   \n",
      "6   https://www.airbnb.com/users/show/2810938           Carole  2012-07-02   \n",
      "8     https://www.airbnb.com/users/show/33004      At Home Inn  2009-08-21   \n",
      "9   https://www.airbnb.com/users/show/8489460     Holly + Mark  2013-08-28   \n",
      "11    https://www.airbnb.com/users/show/46734  Shay And Robert  2009-10-18   \n",
      "\n",
      "    host_location  ... review_scores_communication review_scores_location  \\\n",
      "1     Chicago, IL  ...                        4.81                   4.97   \n",
      "6     Chicago, IL  ...                        4.98                   4.80   \n",
      "8     Chicago, IL  ...                        4.83                   4.97   \n",
      "9   United States  ...                        4.97                   4.86   \n",
      "11    Chicago, IL  ...                        5.00                   5.00   \n",
      "\n",
      "   review_scores_value       license instant_bookable  \\\n",
      "1                 4.77       2209985                t   \n",
      "6                 4.84       2555923                t   \n",
      "8                 4.64       2209984                t   \n",
      "9                 4.78  R22000090320                f   \n",
      "11                4.87  R20000055258                f   \n",
      "\n",
      "   calculated_host_listings_count calculated_host_listings_count_entire_homes  \\\n",
      "1                               5                                           5   \n",
      "6                               3                                           3   \n",
      "8                               5                                           5   \n",
      "9                               1                                           1   \n",
      "11                              1                                           0   \n",
      "\n",
      "   calculated_host_listings_count_private_rooms  \\\n",
      "1                                             0   \n",
      "6                                             0   \n",
      "8                                             0   \n",
      "9                                             0   \n",
      "11                                            1   \n",
      "\n",
      "    calculated_host_listings_count_shared_rooms  reviews_per_month  \n",
      "1                                             0               0.88  \n",
      "6                                             0               0.36  \n",
      "8                                             0               0.66  \n",
      "9                                             0               1.51  \n",
      "11                                            0               0.15  \n",
      "\n",
      "[5 rows x 67 columns]\n"
     ]
    }
   ],
   "source": [
    "df['price'] = df['price'].replace('[\\$,]', '', regex=True).astype(float)\n",
    "\n",
    "subset_df = df[df[\"price\"] > 100]  # Subsetting for rows where price is greater than 100\n",
    "print(subset_df.head())\n"
   ]
  },
  {
   "cell_type": "code",
   "execution_count": 26,
   "metadata": {},
   "outputs": [
    {
     "name": "stdout",
     "output_type": "stream",
     "text": [
      "         id                           listing_url  \\\n",
      "8     10945    https://www.airbnb.com/rooms/10945   \n",
      "9   1591370  https://www.airbnb.com/rooms/1591370   \n",
      "11    12140    https://www.airbnb.com/rooms/12140   \n",
      "12  1620098  https://www.airbnb.com/rooms/1620098   \n",
      "15    28749    https://www.airbnb.com/rooms/28749   \n",
      "\n",
      "                                                 name  \\\n",
      "8   Rental unit in Chicago · ★4.63 · 2 bedrooms · ...   \n",
      "9   Rental unit in Chicago · ★4.83 · 1 bedroom · 4...   \n",
      "11  Boutique hotel in Chicago · ★4.93 · 1 bedroom ...   \n",
      "12  Rental unit in Chicago · ★4.66 · 1 bedroom · 1...   \n",
      "15  Loft in Chicago · ★4.78 · 3 bedrooms · 3 beds ...   \n",
      "\n",
      "                                neighborhood_overview  \\\n",
      "8                                                 NaN   \n",
      "9   Quaint residential neighborhood with tree line...   \n",
      "11  The Guest House is in the heart of Chicago's m...   \n",
      "12  A few steps away from main street (Clark).<br ...   \n",
      "15  Bucktown is a thriving community on the Northw...   \n",
      "\n",
      "                                          picture_url  host_id  \\\n",
      "8   https://a0.muscache.com/pictures/58d1a420-a24b...    33004   \n",
      "9   https://a0.muscache.com/pictures/82760515/1082...  8489460   \n",
      "11  https://a0.muscache.com/pictures/miso/Hosting-...    46734   \n",
      "12  https://a0.muscache.com/pictures/miso/Hosting-...  8619275   \n",
      "15  https://a0.muscache.com/pictures/95884ff6-a672...    27506   \n",
      "\n",
      "                                     host_url        host_name  host_since  \\\n",
      "8     https://www.airbnb.com/users/show/33004      At Home Inn  2009-08-21   \n",
      "9   https://www.airbnb.com/users/show/8489460     Holly + Mark  2013-08-28   \n",
      "11    https://www.airbnb.com/users/show/46734  Shay And Robert  2009-10-18   \n",
      "12  https://www.airbnb.com/users/show/8619275           Leszek  2013-09-03   \n",
      "15    https://www.airbnb.com/users/show/27506            Lauri  2009-07-25   \n",
      "\n",
      "    host_location  ... review_scores_communication review_scores_location  \\\n",
      "8     Chicago, IL  ...                        4.83                   4.97   \n",
      "9   United States  ...                        4.97                   4.86   \n",
      "11    Chicago, IL  ...                        5.00                   5.00   \n",
      "12    Chicago, IL  ...                        4.81                   4.97   \n",
      "15          Italy  ...                        4.85                   4.92   \n",
      "\n",
      "   review_scores_value       license instant_bookable  \\\n",
      "8                 4.64       2209984                t   \n",
      "9                 4.78  R22000090320                f   \n",
      "11                4.87  R20000055258                f   \n",
      "12                4.54  R22000079040                f   \n",
      "15                4.69  R22000079930                f   \n",
      "\n",
      "   calculated_host_listings_count calculated_host_listings_count_entire_homes  \\\n",
      "8                               5                                           5   \n",
      "9                               1                                           1   \n",
      "11                              1                                           0   \n",
      "12                              1                                           0   \n",
      "15                              1                                           1   \n",
      "\n",
      "   calculated_host_listings_count_private_rooms  \\\n",
      "8                                             0   \n",
      "9                                             0   \n",
      "11                                            1   \n",
      "12                                            1   \n",
      "15                                            0   \n",
      "\n",
      "    calculated_host_listings_count_shared_rooms  reviews_per_month  \n",
      "8                                             0               0.66  \n",
      "9                                             0               1.51  \n",
      "11                                            0               0.15  \n",
      "12                                            0               0.54  \n",
      "15                                            0               1.23  \n",
      "\n",
      "[5 rows x 67 columns]\n"
     ]
    }
   ],
   "source": [
    "# Filter listings with a price greater than 100 and available for more than 30 days a year\n",
    "high_price_avail = df[(df[\"price\"] > 100) & (df[\"availability_365\"] > 30)]\n",
    "print(high_price_avail.head())\n"
   ]
  },
  {
   "cell_type": "markdown",
   "metadata": {},
   "source": [
    "### 2. Visualization"
   ]
  },
  {
   "cell_type": "code",
   "execution_count": 54,
   "metadata": {},
   "outputs": [
    {
     "data": {
      "image/png": "[encoded data removed]",
      "text/plain": [
       "<Figure size 720x432 with 1 Axes>"
      ]
     },
     "metadata": {
      "needs_background": "light"
     },
     "output_type": "display_data"
    }
   ],
   "source": [
    "import seaborn as sns\n",
    "import matplotlib.pyplot as plt\n",
    "\n",
    "# Plot Price Trend\n",
    "plt.figure(figsize=(10, 6))\n",
    "sns.lineplot(data=df, x='last_review', y='price') # could not find list date on the dataset, referred to last review instead\n",
    "plt.title('Price Trend Around Eras Tour Date')\n",
    "plt.xlabel('Date')\n",
    "plt.ylabel('Price')\n",
    "plt.xticks(rotation=45)\n",
    "plt.show()\n"
   ]
  }
 ],
 "metadata": {
  "kernelspec": {
   "display_name": "Python 3",
   "language": "python",
   "name": "python3"
  },
  "language_info": {
   "codemirror_mode": {
    "name": "ipython",
    "version": 3
   },
   "file_extension": ".py",
   "mimetype": "text/x-python",
   "name": "python",
   "nbconvert_exporter": "python",
   "pygments_lexer": "ipython3",
   "version": "3.10.4"
  }
 },
 "nbformat": 4,
 "nbformat_minor": 2
}
