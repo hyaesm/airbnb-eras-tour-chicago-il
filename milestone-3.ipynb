{
 "cells": [
  {
   "cell_type": "markdown",
   "metadata": {},
   "source": [
    "# Introduction"
   ]
  },
  {
   "cell_type": "markdown",
   "metadata": {},
   "source": [
    "### Description"
   ]
  },
  {
   "cell_type": "markdown",
   "metadata": {},
   "source": [
    "#### 1. Data Collection and Preparation"
   ]
  },
  {
   "cell_type": "code",
   "execution_count": null,
   "metadata": {},
   "outputs": [],
   "source": [
    "import pandas as pd\n",
    "\n",
    "# Path to the dataset\n",
    "listings_data = 'data/listings-chicago-june-2023.csv'\n",
    "\n",
    "# Load the dataset\n",
    "df = pd.read_csv(listings_data)\n",
    "\n",
    "# Display the first few rows of the dataframe\n",
    "print(df.head())\n"
   ]
  },
  {
   "cell_type": "code",
   "execution_count": null,
   "metadata": {},
   "outputs": [],
   "source": [
    "# Basic info about dataset\n",
    "print(df.info())\n",
    "\n",
    "# Summary statistics for numerical features\n",
    "print(df.describe())\n",
    "\n",
    "# Count of missing values in each column\n",
    "print(df.isnull().sum())\n"
   ]
  },
  {
   "cell_type": "code",
   "execution_count": 7,
   "metadata": {},
   "outputs": [
    {
     "name": "stdout",
     "output_type": "stream",
     "text": [
      "id                                                                           1461451\n",
      "listing_url                                     https://www.airbnb.com/rooms/1461451\n",
      "scrape_id                                                             20231218032601\n",
      "last_scraped                                                              2023-12-18\n",
      "source                                                                   city scrape\n",
      "                                                                ...                 \n",
      "calculated_host_listings_count                                                    15\n",
      "calculated_host_listings_count_entire_homes                                        0\n",
      "calculated_host_listings_count_private_rooms                                       4\n",
      "calculated_host_listings_count_shared_rooms                                       11\n",
      "reviews_per_month                                                               1.49\n",
      "Name: 0, Length: 75, dtype: object\n",
      "0        $28.00\n",
      "1       $146.00\n",
      "2        $49.00\n",
      "3        $70.00\n",
      "4           NaN\n",
      "         ...   \n",
      "8944    $113.00\n",
      "8945    $118.00\n",
      "8946     $64.00\n",
      "8947    $327.00\n",
      "8948    $178.00\n",
      "Name: price, Length: 8949, dtype: object\n"
     ]
    }
   ],
   "source": [
    "print(df.iloc[0])  # First row\n",
    "print(df[\"price\"])  # Accessing the 'price' column\n",
    "\n"
   ]
  },
  {
   "cell_type": "markdown",
   "metadata": {},
   "source": [
    "### Data Cleaning\n",
    "\n",
    "- Dropping unnecessary columns \n",
    "- Converting data types"
   ]
  },
  {
   "cell_type": "code",
   "execution_count": 12,
   "metadata": {},
   "outputs": [],
   "source": [
    "df = df.drop(['scrape_id', 'last_scraped', 'source'], axis=1)"
   ]
  },
  {
   "cell_type": "code",
   "execution_count": 21,
   "metadata": {},
   "outputs": [
    {
     "name": "stdout",
     "output_type": "stream",
     "text": [
      "host_about                     32.942228\n",
      "neighborhood_overview          28.852386\n",
      "neighbourhood                  28.841211\n",
      "reviews_per_month              21.309644\n",
      "first_review                   21.309644\n",
      "last_review                    21.309644\n",
      "review_scores_communication    21.253771\n",
      "review_scores_cleanliness      21.253771\n",
      "review_scores_accuracy         21.242597\n",
      "review_scores_value            21.242597\n",
      "review_scores_location         21.242597\n",
      "review_scores_checkin          21.242597\n",
      "review_scores_rating           21.242597\n",
      "host_location                  19.108280\n",
      "license                        18.672477\n",
      "host_response_rate             12.638284\n",
      "host_response_time             12.638284\n",
      "host_acceptance_rate            9.621187\n",
      "has_availability                6.827579\n",
      "price                           6.827579\n",
      "dtype: float64\n"
     ]
    }
   ],
   "source": [
    "# Calculate the percentage of missing values for each column\n",
    "missing_percentages = df.isnull().mean() * 100\n",
    "\n",
    "# Sort the percentages in descending order\n",
    "missing_percentages_sorted = missing_percentages.sort_values(ascending=False).head(20)\n",
    "\n",
    "# Display the sorted percentages\n",
    "print(missing_percentages_sorted)\n",
    "\n"
   ]
  },
  {
   "cell_type": "code",
   "execution_count": 19,
   "metadata": {},
   "outputs": [
    {
     "name": "stdout",
     "output_type": "stream",
     "text": [
      "description                     100.000000\n",
      "neighbourhood_group_cleansed    100.000000\n",
      "bathrooms                       100.000000\n",
      "bedrooms                         99.966477\n",
      "calendar_updated                100.000000\n",
      "dtype: float64\n"
     ]
    }
   ],
   "source": [
    "# Display columns with more than 80% mising values\n",
    "\n",
    "threshold = 80  # 80% missing values\n",
    "\n",
    "# Find and print columns with missing value percentage greater than the threshold\n",
    "columns_with_missing_data = missing_percentages[missing_percentages > threshold]\n",
    "print(columns_with_missing_data)\n"
   ]
  },
  {
   "cell_type": "code",
   "execution_count": 18,
   "metadata": {},
   "outputs": [],
   "source": [
    "# Drop columns with a high percentage of missing values\n",
    "df = df.drop(columns_with_missing_data.index, axis=1)\n"
   ]
  },
  {
   "cell_type": "code",
   "execution_count": null,
   "metadata": {},
   "outputs": [],
   "source": [
    "df['price'] = df['price'].replace('[\\$,]', '', regex=True).astype(float)\n",
    "\n",
    "subset_df = df[df[\"price\"] > 100]  # Subsetting for rows where price is greater than 100\n",
    "print(subset_df.head())\n"
   ]
  },
  {
   "cell_type": "code",
   "execution_count": null,
   "metadata": {},
   "outputs": [],
   "source": [
    "# Filter listings with a price greater than 100 and available for more than 30 days a year\n",
    "high_price_avail = df[(df[\"price\"] > 100) & (df[\"availability_365\"] > 30)]\n",
    "print(high_price_avail.head())\n"
   ]
  }
 ],
 "metadata": {
  "kernelspec": {
   "display_name": "Python 3",
   "language": "python",
   "name": "python3"
  },
  "language_info": {
   "codemirror_mode": {
    "name": "ipython",
    "version": 3
   },
   "file_extension": ".py",
   "mimetype": "text/x-python",
   "name": "python",
   "nbconvert_exporter": "python",
   "pygments_lexer": "ipython3",
   "version": "3.10.4"
  }
 },
 "nbformat": 4,
 "nbformat_minor": 2
}
